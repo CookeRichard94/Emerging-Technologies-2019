{
 "cells": [
  {
   "cell_type": "markdown",
   "metadata": {},
   "source": [
    "## Hand-Written Digit Reader\n",
    "## Richard Cooke\n",
    "## G00331787"
   ]
  },
  {
   "cell_type": "markdown",
   "metadata": {},
   "source": [
    "### Approach of this notebook was based this work: https://www.ics.uci.edu/~mohamadt/keras_mnist.html#Load-data-set."
   ]
  },
  {
   "cell_type": "markdown",
   "metadata": {},
   "source": [
    "## Making The Necessary Imports"
   ]
  },
  {
   "cell_type": "code",
   "execution_count": 17,
   "metadata": {},
   "outputs": [],
   "source": [
    "# Used to \n",
    "import numpy as np\n",
    "import matplotlib.pyplot as plt\n",
    "\n",
    "# Used to create the Neural network\n",
    "import keras as kr\n",
    "import gzip"
   ]
  },
  {
   "cell_type": "code",
   "execution_count": 7,
   "metadata": {},
   "outputs": [],
   "source": []
  },
  {
   "cell_type": "code",
   "execution_count": null,
   "metadata": {},
   "outputs": [],
   "source": [
    "# Importing the the mnist dataset\n",
    "# Dataset used by the neural network\n",
    "(train_img, train_lbl), (test_img, test_lbl) = kr.datasets.mnist.load_data()\n",
    "\n",
    "# Original data is [0-255]. Scale it to range [0,1].\n",
    "train_img = train_img.reshape(60000, 784)\n",
    "test_img = test_img.reshape(10000, 784)\n",
    "train_img = train_img/255\n",
    "test_img = test_img/255 \n",
    "\n",
    "# \n",
    "digits= 10\n",
    "\n",
    "# \n",
    "train_lbl = kr.utils.np_utils.to_categorical(train_lbl, digits)\n",
    "test_lbl = kr.utils.np_utils.to_categorical(test_lbl, digits)\n",
    "\n"
   ]
  },
  {
   "cell_type": "markdown",
   "metadata": {},
   "source": []
  }
 ],
 "metadata": {
  "kernelspec": {
   "display_name": "Python 3",
   "language": "python",
   "name": "python3"
  },
  "language_info": {
   "codemirror_mode": {
    "name": "ipython",
    "version": 3
   },
   "file_extension": ".py",
   "mimetype": "text/x-python",
   "name": "python",
   "nbconvert_exporter": "python",
   "pygments_lexer": "ipython3",
   "version": "3.7.4"
  }
 },
 "nbformat": 4,
 "nbformat_minor": 4
}
