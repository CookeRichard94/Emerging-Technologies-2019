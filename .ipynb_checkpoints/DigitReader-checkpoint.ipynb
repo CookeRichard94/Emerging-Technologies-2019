{
 "cells": [
  {
   "cell_type": "markdown",
   "metadata": {},
   "source": [
    "## Hand-Written Digit Reader\n",
    "## Richard Cooke\n",
    "## G00331787"
   ]
  },
  {
   "cell_type": "markdown",
   "metadata": {},
   "source": [
    "### Approach of this notebook was based on this work: https://www.ics.uci.edu/~mohamadt/keras_mnist.html#Load-data-set."
   ]
  },
  {
   "cell_type": "markdown",
   "metadata": {},
   "source": [
    "This model was created as part of the Emerging Technologies project where we attempt to apply this model to a web application where a user \n",
    "will input a hand-written digit and a predicition on what digit the user entered should be returned to them. This model will mainly use the features of keras and numpy to complete this operation."
   ]
  },
  {
   "cell_type": "markdown",
   "metadata": {},
   "source": [
    "## Making The Necessary Imports"
   ]
  },
  {
   "cell_type": "code",
   "execution_count": 1,
   "metadata": {},
   "outputs": [
    {
     "name": "stderr",
     "output_type": "stream",
     "text": [
      "Using TensorFlow backend.\n"
     ]
    }
   ],
   "source": [
    "# Used to plot data\n",
    "import numpy as np\n",
    "import matplotlib.pyplot as plt\n",
    "\n",
    "# Used to create the Neural network\n",
    "import keras as kr"
   ]
  },
  {
   "cell_type": "markdown",
   "metadata": {},
   "source": [
    "## Loading and Decompressing the dataset"
   ]
  },
  {
   "cell_type": "code",
   "execution_count": 2,
   "metadata": {},
   "outputs": [
    {
     "name": "stdout",
     "output_type": "stream",
     "text": [
      "One hot vector at index 5 of training labels  [0. 0. 1. 0. 0. 0. 0. 0. 0. 0.]\n"
     ]
    }
   ],
   "source": [
    "# Importing the the mnist dataset\n",
    "# Dataset used by the neural network\n",
    "(train_img, train_lbl), (test_img, test_lbl) = kr.datasets.mnist.load_data()\n",
    "\n",
    "# Reshaping the data using normalisation\n",
    "# Original data is [0-255]. Scale it to range [0,1].\n",
    "train_img = train_img.reshape(60000, 784)\n",
    "test_img = test_img.reshape(10000, 784)\n",
    "\n",
    "# Converting the images to float32 to allow for better division\n",
    "train_img = train_img.astype('float32')\n",
    "test_img = test_img.astype('float32')\n",
    "\n",
    "# Dividing the images by 255 to scale the range to [0,1]\n",
    "train_img = train_img/255\n",
    "test_img = test_img/255 \n",
    "\n",
    "# mnist dataset contains 10 different digits\n",
    "digits= 10\n",
    "\n",
    "# Passed the labels to one hot vecotrs with a vector size of 10\n",
    "train_lbl = kr.utils.np_utils.to_categorical(train_lbl, digits)\n",
    "test_lbl = kr.utils.np_utils.to_categorical(test_lbl, digits)\n",
    "\n",
    "# The third index in the array should have the 1\n",
    "print(\"One hot vector at index 5 of training labels \", train_lbl[5])"
   ]
  },
  {
   "cell_type": "markdown",
   "metadata": {},
   "source": [
    "## Displaying the images from the datasets"
   ]
  },
  {
   "cell_type": "code",
   "execution_count": 3,
   "metadata": {},
   "outputs": [
    {
     "data": {
      "image/png": "[encoded data removed]",
      "text/plain": [
       "<Figure size 1440x720 with 50 Axes>"
      ]
     },
     "metadata": {},
     "output_type": "display_data"
    }
   ],
   "source": [
    "# Plotting examples of the data in the set\n",
    "plt.figure(1, figsize=(20,10))\n",
    "\n",
    "# For loop that will iterate 50 times to display the first 50 images in the dataset\n",
    "for i in range(50):\n",
    "    plt.subplot(1,50,i+1)\n",
    "    \n",
    "    #shows the relevant image\n",
    "    plt.imshow(train_img[i].reshape(28,28), cmap='gray', interpolation='nearest')\n",
    "    \n",
    "    # Removing label markings from both the x and y axis'\n",
    "    plt.xticks([])\n",
    "    plt.yticks([])"
   ]
  },
  {
   "cell_type": "markdown",
   "metadata": {},
   "source": [
    "## Creating the Neural Network"
   ]
  },
  {
   "cell_type": "code",
   "execution_count": 6,
   "metadata": {},
   "outputs": [
    {
     "name": "stdout",
     "output_type": "stream",
     "text": [
      "Creating model\n",
      "Sequential model created\n",
      "Adding layers to model...\n",
      "Layers added to model\n"
     ]
    }
   ],
   "source": [
    "# Creating the neural netwrok by using the models import from keras\n",
    "print(\"Creating model\")\n",
    "model = kr.models.Sequential()\n",
    "\n",
    "print(\"Sequential model created\")\n",
    "print(\"Adding layers to model...\")\n",
    "\n",
    "# Creating the layers of the netwrok using the Dense call from the layers import\n",
    "# Creating 4 dense layers\n",
    "# 3 dense layers and 1 dropout layer\n",
    "\n",
    "# 392 neurons in each of the first two layers to add up to 782 which the total amount of pixels in the passed image\n",
    "# relu(Retified Linear Units) gives an output the same as the input if the input is greater than 0 and outputs 0 if the input is 0 or less\n",
    "# relu is chosen here instead of sigmoid because it builds the model faster\n",
    "model.add(kr.layers.Dense(392, activation='relu', input_shape=(784,))) # Use input_shape=(28,28) for unflattened data.\n",
    "model.add(kr.layers.Dense(392, activation='relu'))\n",
    "\n",
    "# Dropout layer exists to avoid overfitting of model\n",
    "model.add(kr.layers.Dropout(0.2))\n",
    "\n",
    "# 10 nuerons in the final layer to coincide with the 10 digits in the MNIST dataset\n",
    "# softmax maps output to a [0,1] range, it is for probability distribution\n",
    "model.add(kr.layers.Dense(10, activation='softmax'))\n",
    "\n",
    "print(\"Layers added to model\")"
   ]
  },
  {
   "cell_type": "code",
   "execution_count": 7,
   "metadata": {},
   "outputs": [
    {
     "name": "stdout",
     "output_type": "stream",
     "text": [
      "Summarizing model...\n",
      "Model Summary\n",
      "Model: \"sequential_3\"\n",
      "_________________________________________________________________\n",
      "Layer (type)                 Output Shape              Param #   \n",
      "=================================================================\n",
      "dense_5 (Dense)              (None, 392)               307720    \n",
      "_________________________________________________________________\n",
      "dense_6 (Dense)              (None, 392)               154056    \n",
      "_________________________________________________________________\n",
      "dropout_1 (Dropout)          (None, 392)               0         \n",
      "_________________________________________________________________\n",
      "dense_7 (Dense)              (None, 10)                3930      \n",
      "=================================================================\n",
      "Total params: 465,706\n",
      "Trainable params: 465,706\n",
      "Non-trainable params: 0\n",
      "_________________________________________________________________\n"
     ]
    }
   ],
   "source": [
    "# Prints out a string summary of the model\n",
    "print(\"Summarizing model...\")\n",
    "print(\"Model Summary\")\n",
    "model.summary()"
   ]
  },
  {
   "cell_type": "code",
   "execution_count": 8,
   "metadata": {},
   "outputs": [
    {
     "name": "stdout",
     "output_type": "stream",
     "text": [
      "Compiling model...\n",
      "Model compiled\n"
     ]
    }
   ],
   "source": [
    "# Compiles and completes the model\n",
    "print(\"Compiling model...\")\n",
    "model.compile(loss='categorical_crossentropy', optimizer='adam', metrics=['accuracy'])\n",
    "print(\"Model compiled\")"
   ]
  },
  {
   "cell_type": "markdown",
   "metadata": {},
   "source": [
    "## Training the Model"
   ]
  },
  {
   "cell_type": "code",
   "execution_count": 9,
   "metadata": {},
   "outputs": [
    {
     "name": "stdout",
     "output_type": "stream",
     "text": [
      "Train on 60000 samples, validate on 10000 samples\n",
      "Epoch 1/5\n",
      "60000/60000 [==============================] - 6s 106us/step - loss: 0.2037 - accuracy: 0.9385 - val_loss: 0.1003 - val_accuracy: 0.9683\n",
      "Epoch 2/5\n",
      "60000/60000 [==============================] - 6s 97us/step - loss: 0.0847 - accuracy: 0.9736 - val_loss: 0.0888 - val_accuracy: 0.9727\n",
      "Epoch 3/5\n",
      "60000/60000 [==============================] - 6s 96us/step - loss: 0.0574 - accuracy: 0.9823 - val_loss: 0.0801 - val_accuracy: 0.9757\n",
      "Epoch 4/5\n",
      "60000/60000 [==============================] - 6s 106us/step - loss: 0.0417 - accuracy: 0.9868 - val_loss: 0.0838 - val_accuracy: 0.9749\n",
      "Epoch 5/5\n",
      "60000/60000 [==============================] - 7s 110us/step - loss: 0.0335 - accuracy: 0.9894 - val_loss: 0.0721 - val_accuracy: 0.9780\n"
     ]
    }
   ],
   "source": [
    "# Batch size is number of samples that will be testsed\n",
    "# Epochs is the amount of times the test is repeated\n",
    "history = model.fit(train_img, train_lbl, batch_size=50, epochs=5, verbose=1, validation_data=(test_img, test_lbl))\n",
    "\n",
    "#Testing with more than 10 epochs pushes model too far to 100% accuracy"
   ]
  },
  {
   "cell_type": "markdown",
   "metadata": {},
   "source": [
    "## Evaluating Efficiency"
   ]
  },
  {
   "cell_type": "markdown",
   "metadata": {},
   "source": [
    "This evaluation section of the notebook does not need to run for the notebook to work, it simply exists as an option to view the efficiency of the model in both string and graph format"
   ]
  },
  {
   "cell_type": "code",
   "execution_count": 10,
   "metadata": {},
   "outputs": [
    {
     "name": "stdout",
     "output_type": "stream",
     "text": [
      "Test cross-entropy loss: 0.019574180\n",
      "Test accuracy: 0.993516684\n"
     ]
    }
   ],
   "source": [
    "# Calculates and displays the loss and accuracy of the model\n",
    "score = model.evaluate(train_img, train_lbl, verbose=0)\n",
    "print('Test cross-entropy loss: %0.9f' % score[0])\n",
    "print('Test accuracy: %0.9f' % score[1])"
   ]
  },
  {
   "cell_type": "code",
   "execution_count": 11,
   "metadata": {},
   "outputs": [
    {
     "data": {
      "text/plain": [
       "<matplotlib.legend.Legend at 0x1fd82760248>"
      ]
     },
     "execution_count": 11,
     "metadata": {},
     "output_type": "execute_result"
    },
    {
     "data": {
      "image/png": "[encoded data removed]",
      "text/plain": [
       "<Figure size 1008x360 with 2 Axes>"
      ]
     },
     "metadata": {
      "needs_background": "light"
     },
     "output_type": "display_data"
    }
   ],
   "source": [
    "#Plotting the loss trajectory during training\n",
    "plt.figure(1, figsize=(14,5))\n",
    "plt.subplot(1,2,1)\n",
    "plt.plot(history.history['loss'], label='train')\n",
    "plt.plot(history.history['val_loss'], label='valid')\n",
    "plt.xlabel('Epoch')\n",
    "plt.ylabel('Cross-Entropy Loss')\n",
    "plt.legend()\n",
    "\n",
    "# Plotting the accuracy during training\n",
    "plt.subplot(1,2,2)\n",
    "plt.plot(history.history['accuracy'], label='train')\n",
    "plt.plot(history.history['val_accuracy'], label='valid')\n",
    "plt.xlabel('Epoch')\n",
    "plt.ylabel('Accuracy')\n",
    "plt.legend()"
   ]
  },
  {
   "cell_type": "markdown",
   "metadata": {},
   "source": [
    "## Saving The Model"
   ]
  },
  {
   "cell_type": "code",
   "execution_count": 12,
   "metadata": {},
   "outputs": [
    {
     "name": "stdout",
     "output_type": "stream",
     "text": [
      "Saving Model......\n",
      "Model Saved.\n"
     ]
    }
   ],
   "source": [
    "print(\"Saving Model......\")\n",
    "model.save('digit_reader.h5')\n",
    "print(\"Model Saved.\")"
   ]
  },
  {
   "cell_type": "markdown",
   "metadata": {},
   "source": [
    "## Loading an instance of the newly saved Model"
   ]
  },
  {
   "cell_type": "markdown",
   "metadata": {},
   "source": [
    "This section of the model is for testing purposes wherein an instance of the recently saved model is generated and then is passed a test image to match against the training images and returns a prediction on what digit it has been passed and returns a prediction and normalized percentages for each digit."
   ]
  },
  {
   "cell_type": "code",
   "execution_count": 13,
   "metadata": {},
   "outputs": [
    {
     "name": "stdout",
     "output_type": "stream",
     "text": [
      "Loading Model......\n",
      "Model loaded.\n"
     ]
    }
   ],
   "source": [
    "#Loading the saved Model\n",
    "print(\"Loading Model......\")\n",
    "loadedModel = kr.models.load_model('digit_reader.h5')\n",
    "print(\"Model loaded.\")"
   ]
  },
  {
   "cell_type": "code",
   "execution_count": 17,
   "metadata": {},
   "outputs": [
    {
     "data": {
      "image/png": "[encoded data removed]",
      "text/plain": [
       "<Figure size 432x288 with 1 Axes>"
      ]
     },
     "metadata": {
      "needs_background": "light"
     },
     "output_type": "display_data"
    },
    {
     "name": "stdout",
     "output_type": "stream",
     "text": [
      "[[1.4790417e-05 6.3932050e-05 9.9992025e-01 5.3209096e-08 1.5725961e-09\n",
      "  4.0536112e-09 3.1959092e-07 4.8746392e-07 1.5571918e-07 9.4790318e-09]] \n",
      "Predicted digit:  2\n"
     ]
    }
   ],
   "source": [
    "# Plots the image that will be passed for prediction\n",
    "plt.imshow(test_img[77].reshape(28, 28), cmap=\"gray\")\n",
    "plt.show()\n",
    "\n",
    "# Returns normalized output for each digit and also uses argmax to return the actual prediction\n",
    "print(loadedModel.predict(test_img[77:78]), \"\\nPredicted digit: \", np.argmax(loadedModel.predict(test_img[77:78])))"
   ]
  },
  {
   "cell_type": "markdown",
   "metadata": {},
   "source": [
    "## Other References"
   ]
  },
  {
   "cell_type": "markdown",
   "metadata": {},
   "source": [
    "* https://keras.io/\n",
    "* https://www.tensorflow.org/guide/keras/overview\n",
    "* https://www.python.org/\n",
    "* https://web.microsoftstream.com/video/8e965392-ccc2-4faa-a755-8d86de6a91d6?referrer=https:%2F%2Flearnonline.gmit.ie%2Fcourse%2Fview.php%3Fid%3D135\n",
    "* https://github.com/ianmcloughlin/jupyter-teaching-notebooks/blob/master/keras-neurons.ipynb\n",
    "* https://medium.com/@himanshuxd/activation-functions-sigmoid-relu-leaky-relu-and-softmax-basics-for-neural-networks-and-deep-8d9c70eed91e"
   ]
  },
  {
   "cell_type": "code",
   "execution_count": null,
   "metadata": {},
   "outputs": [],
   "source": []
  }
 ],
 "metadata": {
  "kernelspec": {
   "display_name": "Python 3",
   "language": "python",
   "name": "python3"
  },
  "language_info": {
   "codemirror_mode": {
    "name": "ipython",
    "version": 3
   },
   "file_extension": ".py",
   "mimetype": "text/x-python",
   "name": "python",
   "nbconvert_exporter": "python",
   "pygments_lexer": "ipython3",
   "version": "3.7.4"
  }
 },
 "nbformat": 4,
 "nbformat_minor": 4
}
