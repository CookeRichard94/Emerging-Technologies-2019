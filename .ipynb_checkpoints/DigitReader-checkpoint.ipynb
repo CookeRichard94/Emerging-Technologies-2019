{
 "cells": [
  {
   "cell_type": "markdown",
   "metadata": {},
   "source": [
    "## Hand-Written Digit Reader\n",
    "## Richard Cooke\n",
    "## G00331787"
   ]
  },
  {
   "cell_type": "markdown",
   "metadata": {},
   "source": [
    "### Approach of this notebook was based on this work: https://www.ics.uci.edu/~mohamadt/keras_mnist.html#Load-data-set."
   ]
  },
  {
   "cell_type": "markdown",
   "metadata": {},
   "source": [
    "## Making The Necessary Imports"
   ]
  },
  {
   "cell_type": "code",
   "execution_count": null,
   "metadata": {},
   "outputs": [],
   "source": [
    "# Used to plot data\n",
    "import numpy as np\n",
    "import matplotlib.pyplot as plt\n",
    "\n",
    "# Used to create the Neural network\n",
    "import keras as kr\n",
    "import gzip"
   ]
  },
  {
   "cell_type": "markdown",
   "metadata": {},
   "source": [
    "## Loading and Decompressing the dataset"
   ]
  },
  {
   "cell_type": "code",
   "execution_count": null,
   "metadata": {},
   "outputs": [],
   "source": [
    "# Importing the the mnist dataset\n",
    "# Dataset used by the neural network\n",
    "(train_img, train_lbl), (test_img, test_lbl) = kr.datasets.mnist.load_data()\n",
    "\n",
    "# Reshaping the data using normalisation\n",
    "# Original data is [0-255]. Scale it to range [0,1].\n",
    "train_img = train_img.reshape(60000, 784)\n",
    "test_img = test_img.reshape(10000, 784)\n",
    "train_img = train_img/255\n",
    "test_img = test_img/255 \n",
    "\n",
    "# mnist dataset contains 10 different digits\n",
    "digits= 10\n",
    "\n",
    "# Passed the labels to one hot vecotrs with a vector size of 10\n",
    "train_lbl = kr.utils.np_utils.to_categorical(train_lbl, digits)\n",
    "test_lbl = kr.utils.np_utils.to_categorical(test_lbl, digits)\n",
    "\n",
    "print(\"One hot vector at index 5 of training labels \", train_lbl[5])"
   ]
  },
  {
   "cell_type": "markdown",
   "metadata": {},
   "source": [
    "## Displaying the images from the datasets"
   ]
  },
  {
   "cell_type": "code",
   "execution_count": 3,
   "metadata": {},
   "outputs": [
    {
     "data": {
      "image/png": "[encoded data removed]",
      "text/plain": [
       "<Figure size 1440x720 with 50 Axes>"
      ]
     },
     "metadata": {},
     "output_type": "display_data"
    }
   ],
   "source": [
    "# Plotting examples of the data in the set\n",
    "plt.figure(1, figsize=(20,10))\n",
    "\n",
    "# For loop that will iterate 50 times to display the first 50 images in the dataset\n",
    "for i in range(50):\n",
    "    plt.subplot(1,50,i+1)\n",
    "    \n",
    "    #shows the relevant image\n",
    "    plt.imshow(train_img[i].reshape(28,28), cmap='gray', interpolation='nearest')\n",
    "    \n",
    "    # Removing label markings from both the x and y axis'\n",
    "    plt.xticks([])\n",
    "    plt.yticks([])"
   ]
  },
  {
   "cell_type": "markdown",
   "metadata": {},
   "source": [
    "## Creating the Neural Network"
   ]
  },
  {
   "cell_type": "code",
   "execution_count": 4,
   "metadata": {},
   "outputs": [
    {
     "name": "stdout",
     "output_type": "stream",
     "text": [
      "Sequential model created\n",
      "Layers added to model\n"
     ]
    }
   ],
   "source": [
    "# Creating the neural netwrok by using the models import from keras\n",
    "model = kr.models.Sequential()\n",
    "\n",
    "print(\"Sequential model created\")\n",
    "\n",
    "# Creating the layers of the netwrok using the Dense call from the layers import\n",
    "# Creating 3 dense layers\n",
    "model.add(kr.layers.Dense(256, activation='relu', input_shape=(784,))) # Use input_shape=(28,28) for unflattened data.\n",
    "model.add(kr.layers.Dense(256, activation='relu'))\n",
    "model.add(kr.layers.Dense(10, activation='softmax'))\n",
    "\n",
    "print(\"Layers added to model\")"
   ]
  },
  {
   "cell_type": "code",
   "execution_count": 5,
   "metadata": {},
   "outputs": [
    {
     "name": "stdout",
     "output_type": "stream",
     "text": [
      "Model Summary\n",
      "Model: \"sequential_1\"\n",
      "_________________________________________________________________\n",
      "Layer (type)                 Output Shape              Param #   \n",
      "=================================================================\n",
      "dense_1 (Dense)              (None, 256)               200960    \n",
      "_________________________________________________________________\n",
      "dense_2 (Dense)              (None, 256)               65792     \n",
      "_________________________________________________________________\n",
      "dense_3 (Dense)              (None, 10)                2570      \n",
      "=================================================================\n",
      "Total params: 269,322\n",
      "Trainable params: 269,322\n",
      "Non-trainable params: 0\n",
      "_________________________________________________________________\n"
     ]
    }
   ],
   "source": [
    "# Prints out a string summary of the model\n",
    "print(\"Model Summary\")\n",
    "model.summary()"
   ]
  },
  {
   "cell_type": "code",
   "execution_count": 6,
   "metadata": {},
   "outputs": [
    {
     "name": "stdout",
     "output_type": "stream",
     "text": [
      "Model compiled\n"
     ]
    }
   ],
   "source": [
    "# Compiles and completes the model\n",
    "model.compile(loss='categorical_crossentropy', optimizer='adam', metrics=['accuracy'])\n",
    "print(\"Model compiled\")"
   ]
  },
  {
   "cell_type": "markdown",
   "metadata": {},
   "source": [
    "## Training the Model"
   ]
  },
  {
   "cell_type": "code",
   "execution_count": 10,
   "metadata": {},
   "outputs": [
    {
     "name": "stdout",
     "output_type": "stream",
     "text": [
      "Train on 60000 samples, validate on 10000 samples\n",
      "Epoch 1/10\n",
      "60000/60000 [==============================] - 2s 38us/step - loss: 0.0146 - accuracy: 0.9951 - val_loss: 0.0877 - val_accuracy: 0.9771\n",
      "Epoch 2/10\n",
      "60000/60000 [==============================] - 2s 37us/step - loss: 0.0118 - accuracy: 0.9962 - val_loss: 0.0882 - val_accuracy: 0.9806\n",
      "Epoch 3/10\n",
      "60000/60000 [==============================] - 2s 38us/step - loss: 0.0078 - accuracy: 0.9975 - val_loss: 0.0870 - val_accuracy: 0.9792\n",
      "Epoch 4/10\n",
      "60000/60000 [==============================] - 2s 38us/step - loss: 0.0099 - accuracy: 0.9966 - val_loss: 0.0822 - val_accuracy: 0.9803\n",
      "Epoch 5/10\n",
      "60000/60000 [==============================] - 2s 37us/step - loss: 0.0068 - accuracy: 0.9979 - val_loss: 0.0891 - val_accuracy: 0.9803\n",
      "Epoch 6/10\n",
      "60000/60000 [==============================] - 2s 37us/step - loss: 0.0079 - accuracy: 0.9973 - val_loss: 0.1096 - val_accuracy: 0.9768\n",
      "Epoch 7/10\n",
      "60000/60000 [==============================] - 2s 37us/step - loss: 0.0086 - accuracy: 0.9970 - val_loss: 0.0854 - val_accuracy: 0.9828\n",
      "Epoch 8/10\n",
      "60000/60000 [==============================] - 2s 37us/step - loss: 0.0078 - accuracy: 0.9975 - val_loss: 0.0888 - val_accuracy: 0.9805\n",
      "Epoch 9/10\n",
      "60000/60000 [==============================] - 2s 37us/step - loss: 0.0072 - accuracy: 0.9975 - val_loss: 0.1144 - val_accuracy: 0.9768\n",
      "Epoch 10/10\n",
      "60000/60000 [==============================] - 3s 43us/step - loss: 0.0073 - accuracy: 0.9977 - val_loss: 0.0890 - val_accuracy: 0.9826\n"
     ]
    }
   ],
   "source": [
    "# Batch size is number of samples that will be testsed\n",
    "# Epochs is the amount of times the test is repeated\n",
    "history = model.fit(train_img, train_lbl, batch_size=128, epochs=10, verbose=1, validation_data=(test_img, test_lbl))\n",
    "\n",
    "#Testing with more than 10 epochs pushes model too far to 100% accuracy"
   ]
  },
  {
   "cell_type": "markdown",
   "metadata": {},
   "source": [
    "## Evaluating Efficiency"
   ]
  },
  {
   "cell_type": "code",
   "execution_count": 11,
   "metadata": {},
   "outputs": [
    {
     "name": "stdout",
     "output_type": "stream",
     "text": [
      "Test cross-entropy loss: 0.002447885\n",
      "Test accuracy: 0.999283314\n"
     ]
    }
   ],
   "source": [
    "# Calculates and displays the loss and accuracy of the model\n",
    "score = model.evaluate(train_img, train_lbl, verbose=0)\n",
    "print('Test cross-entropy loss: %0.9f' % score[0])\n",
    "print('Test accuracy: %0.9f' % score[1])"
   ]
  },
  {
   "cell_type": "code",
   "execution_count": 14,
   "metadata": {},
   "outputs": [
    {
     "data": {
      "text/plain": [
       "<matplotlib.legend.Legend at 0x1d546e0dd48>"
      ]
     },
     "execution_count": 14,
     "metadata": {},
     "output_type": "execute_result"
    },
    {
     "data": {
      "image/png": "[encoded data removed]",
      "text/plain": [
       "<Figure size 1008x360 with 2 Axes>"
      ]
     },
     "metadata": {
      "needs_background": "light"
     },
     "output_type": "display_data"
    }
   ],
   "source": [
    "#Plotting the loss trajectory during training\n",
    "plt.figure(1, figsize=(14,5))\n",
    "plt.subplot(1,2,1)\n",
    "plt.plot(history.history['loss'], label='train')\n",
    "plt.plot(history.history['val_loss'], label='valid')\n",
    "plt.xlabel('Epoch')\n",
    "plt.ylabel('Cross-Entropy Loss')\n",
    "plt.legend()\n",
    "\n",
    "# Plotting the accuracy during training\n",
    "plt.subplot(1,2,2)\n",
    "plt.plot(history.history['accuracy'], label='train')\n",
    "plt.plot(history.history['val_accuracy'], label='valid')\n",
    "plt.xlabel('Epoch')\n",
    "plt.ylabel('Accuracy')\n",
    "plt.legend()"
   ]
  },
  {
   "cell_type": "markdown",
   "metadata": {},
   "source": [
    "## Saving The Model"
   ]
  },
  {
   "cell_type": "code",
   "execution_count": 10,
   "metadata": {},
   "outputs": [],
   "source": [
    "model.save('digit_reader.h5')\n",
    "print(\"Model Saved.\")"
   ]
  },
  {
   "cell_type": "code",
   "execution_count": null,
   "metadata": {},
   "outputs": [],
   "source": [
    "plt.imshow(test_img[9999].reshape(28, 28), cmap=\"gray\")\n",
    "plt.show()\n",
    "\n",
    "print(model.predict(test_img[9999:10000]), \"\\nPredicted number: \", np.argmax(model.predict(test_img[9999:10000])))"
   ]
  },
  {
   "cell_type": "markdown",
   "metadata": {},
   "source": [
    "## Other References"
   ]
  },
  {
   "cell_type": "markdown",
   "metadata": {},
   "source": [
    "* https://keras.io/\n",
    "* https://www.tensorflow.org/guide/keras/overview\n",
    "* https://www.python.org/\n",
    "* https://web.microsoftstream.com/video/8e965392-ccc2-4faa-a755-8d86de6a91d6?referrer=https:%2F%2Flearnonline.gmit.ie%2Fcourse%2Fview.php%3Fid%3D135\n",
    "* https://github.com/ianmcloughlin/jupyter-teaching-notebooks/blob/master/keras-neurons.ipynb\n",
    " "
   ]
  },
  {
   "cell_type": "code",
   "execution_count": null,
   "metadata": {},
   "outputs": [],
   "source": []
  }
 ],
 "metadata": {
  "kernelspec": {
   "display_name": "Python 3",
   "language": "python",
   "name": "python3"
  },
  "language_info": {
   "codemirror_mode": {
    "name": "ipython",
    "version": 3
   },
   "file_extension": ".py",
   "mimetype": "text/x-python",
   "name": "python",
   "nbconvert_exporter": "python",
   "pygments_lexer": "ipython3",
   "version": "3.7.4"
  }
 },
 "nbformat": 4,
 "nbformat_minor": 4
}
