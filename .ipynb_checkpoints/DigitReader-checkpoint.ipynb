{
 "cells": [
  {
   "cell_type": "markdown",
   "metadata": {},
   "source": [
    "## Hand-Written Digit Reader\n",
    "## Richard Cooke\n",
    "## G00331787"
   ]
  },
  {
   "cell_type": "markdown",
   "metadata": {},
   "source": [
    "### Approach of this notebook was based this work: https://www.ics.uci.edu/~mohamadt/keras_mnist.html#Load-data-set."
   ]
  },
  {
   "cell_type": "markdown",
   "metadata": {},
   "source": [
    "## Making The Necessary Imports"
   ]
  },
  {
   "cell_type": "code",
   "execution_count": 2,
   "metadata": {},
   "outputs": [
    {
     "name": "stderr",
     "output_type": "stream",
     "text": [
      "Using TensorFlow backend.\n"
     ]
    }
   ],
   "source": [
    "# Used to \n",
    "import numpy as np\n",
    "import matplotlib.pyplot as plt\n",
    "\n",
    "# Used to create the Neural network\n",
    "import keras as kr\n",
    "import gzip"
   ]
  },
  {
   "cell_type": "markdown",
   "metadata": {},
   "source": [
    "## Loading and Decompressing the dataset"
   ]
  },
  {
   "cell_type": "code",
   "execution_count": 3,
   "metadata": {},
   "outputs": [
    {
     "name": "stdout",
     "output_type": "stream",
     "text": [
      "One hot vector at index 0 of training labels  [0. 0. 1. 0. 0. 0. 0. 0. 0. 0.]\n"
     ]
    }
   ],
   "source": [
    "# Importing the the mnist dataset\n",
    "# Dataset used by the neural network\n",
    "(train_img, train_lbl), (test_img, test_lbl) = kr.datasets.mnist.load_data()\n",
    "\n",
    "# Reshaping the data using normalisation\n",
    "# Original data is [0-255]. Scale it to range [0,1].\n",
    "train_img = train_img.reshape(60000, 784)\n",
    "test_img = test_img.reshape(10000, 784)\n",
    "train_img = train_img/255\n",
    "test_img = test_img/255 \n",
    "\n",
    "# mnist dataset contains 10 different digits\n",
    "digits= 10\n",
    "\n",
    "# Passed the labels to one hot vecotrs with a vector size of 10\n",
    "train_lbl = kr.utils.np_utils.to_categorical(train_lbl, digits)\n",
    "test_lbl = kr.utils.np_utils.to_categorical(test_lbl, digits)\n",
    "\n",
    "print(\"One hot vector at index 0 of training labels \", train_lbl[5])"
   ]
  },
  {
   "cell_type": "markdown",
   "metadata": {},
   "source": [
    "## Displaying the images from the datasets"
   ]
  },
  {
   "cell_type": "code",
   "execution_count": 10,
   "metadata": {},
   "outputs": [
    {
     "data": {
      "image/png": "[encoded data removed]",
      "text/plain": [
       "<Figure size 1440x360 with 10 Axes>"
      ]
     },
     "metadata": {},
     "output_type": "display_data"
    }
   ],
   "source": [
    "# Plotting examples of the data in the set\n",
    "plt.figure(1, figsize=(20,5))\n",
    "\n",
    "# For loop that will iterate 10 times, once for each digit in the set\n",
    "for i in range(10):\n",
    "    plt.subplot(1,10,i+1)\n",
    "    \n",
    "    #shows the relevant image\n",
    "    plt.imshow(train_img[i].reshape(28,28), cmap='gray', interpolation='nearest')\n",
    "    \n",
    "    # Removing label markings from both the x and y axis'\n",
    "    plt.xticks([])\n",
    "    plt.yticks([])"
   ]
  },
  {
   "cell_type": "code",
   "execution_count": null,
   "metadata": {},
   "outputs": [],
   "source": []
  },
  {
   "cell_type": "code",
   "execution_count": null,
   "metadata": {},
   "outputs": [],
   "source": [
    "# Creating the neural netwrok by using the models import from keras\n",
    "model = kr.models.Sequential()\n",
    "\n"
   ]
  },
  {
   "cell_type": "code",
   "execution_count": null,
   "metadata": {},
   "outputs": [],
   "source": [
    "model.summary()"
   ]
  },
  {
   "cell_type": "code",
   "execution_count": null,
   "metadata": {},
   "outputs": [],
   "source": [
    "model.compile(loss='categorical_crossentropy', optimizer='adam', metrics=['accuracy'])"
   ]
  }
 ],
 "metadata": {
  "kernelspec": {
   "display_name": "Python 3",
   "language": "python",
   "name": "python3"
  },
  "language_info": {
   "codemirror_mode": {
    "name": "ipython",
    "version": 3
   },
   "file_extension": ".py",
   "mimetype": "text/x-python",
   "name": "python",
   "nbconvert_exporter": "python",
   "pygments_lexer": "ipython3",
   "version": "3.7.4"
  }
 },
 "nbformat": 4,
 "nbformat_minor": 4
}
